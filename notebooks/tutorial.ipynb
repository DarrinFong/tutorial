{
 "cells": [
  {
   "cell_type": "markdown",
   "metadata": {},
   "source": [
    "<img src=\"http://boutiques.github.io/images/logo.png\" alt=\"logo\" width=\"80\" align=\"left\" style=\"padding:5px;\"/>\n",
    "\n",
    "# Boutiques tutorial\n",
    "\n",
    "This tutorial will walk you through the main features of Boutiques tools. While Boutiques enables a descriptive representation of command-line utilities and informs users of their usage, the Boutiques Python tool provides users with functionality to perform a variety of operations on these descriptors. More information and documentation is available at http://github.com/boutiques."
   ]
  },
  {
   "cell_type": "markdown",
   "metadata": {},
   "source": [
    "## Getting Started\n",
    "\n",
    "Boutiques is available as a Python module on `pip` and can be installed by simply typing `pip install boutiques`. Once Boutiques is installed, the Python and command-line APIs for Boutiques can be accessed through your new favourite command, _bosh_. The Boutiques Shell (bosh) provides an access point to all of the tools wrapped within Boutiques and has some --help text to keep you moving forward if you feel like you're getting stuck. You can check that it's correctly installed by simply typing `bosh version` in a command line:"
   ]
  },
  {
   "cell_type": "code",
   "execution_count": 1,
   "metadata": {},
   "outputs": [
    {
     "name": "stdout",
     "output_type": "stream",
     "text": [
      "0.5.20.post1\n"
     ]
    }
   ],
   "source": [
    "! bosh version"
   ]
  },
  {
   "cell_type": "markdown",
   "metadata": {},
   "source": [
    "Help is available through `--help`:"
   ]
  },
  {
   "cell_type": "code",
   "execution_count": 2,
   "metadata": {},
   "outputs": [
    {
     "name": "stdout",
     "output_type": "stream",
     "text": [
      "usage: bosh [--help]\n",
      "            [{create,data,evaluate,example,exec,export,import,invocation,pprint,publish,pull,search,test,validate,version}]\n",
      "\n",
      "positional arguments:\n",
      "  {create,data,evaluate,example,exec,export,import,invocation,pprint,publish,pull,search,test,validate,version}\n",
      "                        \n",
      "                                       BOUTIQUES COMMANDS\n",
      "                        \n",
      "                        TOOL CREATION\n",
      "                        * create: create a Boutiques descriptor from scratch.\n",
      "                        * export: export a descriptor to other formats.\n",
      "                        * import: create a descriptor for a BIDS app or update a descriptor from \\\n",
      "                            an older version of the schema.\n",
      "                        * validate: validate an existing boutiques descriptor.\n",
      "                        \n",
      "                        TOOL USAGE & EXECUTION\n",
      "                        * example: generate example command-line for descriptor.\n",
      "                        * pprint: generate pretty help text from a descriptor.\n",
      "                        * exec: launch or simulate an execution given a descriptor and a set of inputs.\n",
      "                        * test: run pytest on a descriptor detailing tests.\n",
      "                        \n",
      "                        TOOL SEARCH & PUBLICATION\n",
      "                        * publish: create an entry in Zenodo for the descriptor and adds the DOI \\\n",
      "                            created by Zenodo to the descriptor.\n",
      "                        * pull: download a descriptor from Zenodo.\n",
      "                        * search: search Zenodo for descriptors.\n",
      "                        \n",
      "                        DATA COLLECTION\n",
      "                        * data: manage execution data collection.\n",
      "                        \n",
      "                        OTHER\n",
      "                        * evaluate: given an invocation and a descriptor,queries execution properties.\n",
      "                        * invocation: generate or validate inputs against the invocation schema\n",
      "                        * for a given descriptor.\n",
      "                        * version: print the Boutiques version.\n",
      "\n",
      "optional arguments:\n",
      "  --help, -h            show this help message and exit\n"
     ]
    }
   ],
   "source": [
    "! bosh --help"
   ]
  },
  {
   "cell_type": "markdown",
   "metadata": {},
   "source": [
    "_bosh_ commands are also available as a Python API, where command-line parameters are simply passed as a list:"
   ]
  },
  {
   "cell_type": "code",
   "execution_count": 3,
   "metadata": {},
   "outputs": [
    {
     "data": {
      "text/plain": [
       "'0.5.20.post1'"
      ]
     },
     "execution_count": 3,
     "metadata": {},
     "output_type": "execute_result"
    }
   ],
   "source": [
    "from boutiques import bosh\n",
    "bosh([\"version\"])"
   ]
  },
  {
   "cell_type": "markdown",
   "metadata": {},
   "source": [
    "A more Pythonic API is also available [here](http://todo.docs)."
   ]
  },
  {
   "cell_type": "markdown",
   "metadata": {},
   "source": [
    "## Finding tools\n",
    "\n",
    "Perhaps someone has already described the tool you are looking for and you could reuse their work. For instance, if you are looking for a tool that does brain extraction (bet), try:"
   ]
  },
  {
   "cell_type": "code",
   "execution_count": 4,
   "metadata": {},
   "outputs": [
    {
     "name": "stdout",
     "output_type": "stream",
     "text": [
      "[ INFO ] Showing 1 of 1 results.\n"
     ]
    },
    {
     "data": {
      "text/plain": [
       "[OrderedDict([('ID', 'zenodo.1482743'),\n",
       "              ('TITLE', 'fsl_bet'),\n",
       "              ('DESCRIPTION', 'Automated brain extraction tool for FSL'),\n",
       "              ('DOWNLOADS', 23.0)])]"
      ]
     },
     "execution_count": 4,
     "metadata": {},
     "output_type": "execute_result"
    }
   ],
   "source": [
    "bosh([\"search\", \"bet\"])"
   ]
  },
  {
   "cell_type": "markdown",
   "metadata": {},
   "source": [
    "The _search_ command returns a list of identifiers for tools matching your query. You can use these identifiers in any bosh command transparently. Even better, these identifiers are [Digital Object Identifiers](https://www.doi.org) hosted on [Zenodo](http://zenodo.org), they will never change and can't be deleted!\n",
    "\n",
    "Once you have identified candidate tools for your task, you can get more details using bosh _pprint_:"
   ]
  },
  {
   "cell_type": "code",
   "execution_count": 5,
   "metadata": {},
   "outputs": [
    {
     "name": "stdout",
     "output_type": "stream",
     "text": [
      "================================================================================\n",
      "\n",
      "Tool name: fsl_bet (ver: 1.0.0)\n",
      "Tool description: Automated brain extraction tool for FSL\n",
      "Tags: domain: neuroinformatics, mri\n",
      "\n",
      "Command-line:\n",
      "  bet [INPUT_FILE] [MASK] [FRACTIONAL_INTENSITY] [VERTICAL_GRADIENT]\n",
      "      [CENTER_OF_GRAVITY] [OVERLAY_FLAG] [BINARY_MASK_FLAG]\n",
      "      [APPROX_SKULL_FLAG] [NO_SEG_OUTPUT_FLAG] [VTK_VIEW_FLAG]\n",
      "      [HEAD_RADIUS] [THRESHOLDING_FLAG] [ROBUST_ITERS_FLAG]\n",
      "      [RES_OPTIC_CLEANUP_\n"
     ]
    }
   ],
   "source": [
    "help_text = bosh([\"pprint\", \"zenodo.1482743\"])\n",
    "print(help_text[:500])  # The Python API should be documented using docstrings, so that help(bosh) returns something meaningful"
   ]
  },
  {
   "cell_type": "markdown",
   "metadata": {},
   "source": [
    "Behind the scene, _bosh_ has downloaded the tool descriptor from Zenodo and has stored it in `~/.cache/boutiques` on your computer:"
   ]
  },
  {
   "cell_type": "code",
   "execution_count": 6,
   "metadata": {},
   "outputs": [
    {
     "name": "stdout",
     "output_type": "stream",
     "text": [
      "{\n",
      "    \"tool-version\": \"1.0.0\", \n",
      "    \"name\": \"fsl_bet\", \n",
      "    \"author\": \"Oxford Centre for Functional MRI of the Brain (FMRIB)\",\n",
      "    \"descriptor-url\": \"https://github.com/aces/cbrain-plugins-neuro/blob/master/cbrain_task_descriptors/fsl_bet.json\",\n",
      "    \"command-line\": \"bet [INPUT_FILE] [MASK] [FRACTIONAL_INTENSITY] [VERTICAL_GRADIENT] [CENTER_OF_GRAVITY] [OVERLAY_FLAG] [BINARY_MASK_FLAG] [APPROX_SKULL_FLAG] [NO_SEG_OUTPUT_FLAG] [VTK_VIEW_FLAG] [HEAD_RADIUS] [THRESHOLDING_FLAG] [ROBUST_ITERS_FLAG] [RES_OPTIC_CLEANUP_FLAG] [REDUCE_BIAS_FLAG] [SLICE_PADDING_FLAG] [MASK_WHOLE_SET_FLAG] [ADD_SURFACES_FLAG] [ADD_SURFACES_T2] [VERBOSE_FLAG] [DEBUG_FLAG]\", \n",
      "    \"container-image\": {\n",
      "        \"image\": \"mcin/docker-fsl:latest\", \n",
      "        \"index\": \"index.docker.io\", \n",
      "        \"type\": \"docker\"\n"
     ]
    }
   ],
   "source": [
    "! head ~/.cache/boutiques/zenodo-1482743.json"
   ]
  },
  {
   "cell_type": "markdown",
   "metadata": {},
   "source": [
    "You can use file paths or Zenodo IDs indifferently in all _bosh_ commands. This can be useful when you work offline. For instance:"
   ]
  },
  {
   "cell_type": "code",
   "execution_count": 7,
   "metadata": {},
   "outputs": [
    {
     "name": "stdout",
     "output_type": "stream",
     "text": [
      "================================================================================\n",
      "\n",
      "Tool name: fsl_bet (ver: 1.0.0)\n",
      "Tool description: Automated brain extraction tool for FSL\n",
      "Tags: domain: neuroinformatics, mri\n",
      "\n",
      "Command-line:\n",
      "  bet [INPUT_FILE] [MASK] [FRACTIONAL_INTENSITY] [VERTICAL_GRADIENT]\n",
      "      [CENTER_OF_GRAVITY] [OVERLAY_FLAG] [BINARY_MASK_FLAG]\n",
      "      [APPROX_SKULL_FLAG] [NO_SEG_OUTPUT_FLAG] [VTK_VIEW_FLAG]\n",
      "      [HEAD_RADIUS] [THRESHOLDING_FLAG] [ROBUST_ITERS_FLAG]\n",
      "      [RES_OPTIC_CLEANUP_\n"
     ]
    }
   ],
   "source": [
    "import os\n",
    "home = os.path.expanduser('~')\n",
    "help_bet = bosh([\"pprint\", os.path.join(home, \".cache/boutiques/zenodo-1482743.json\")])\n",
    "print(help_bet[:500])"
   ]
  },
  {
   "cell_type": "markdown",
   "metadata": {},
   "source": [
    "## Using tools\n",
    "\n",
    "It looks like we have found a tool that suits our needs -- now it's time to put it to work! The first step is to create an _invocation_ with your input values. We will use the test data in `data`:"
   ]
  },
  {
   "cell_type": "code",
   "execution_count": 8,
   "metadata": {},
   "outputs": [
    {
     "name": "stderr",
     "output_type": "stream",
     "text": [
      "/home/glatard/venvs/spark/lib/python3.7/site-packages/matplotlib/cbook/__init__.py:424: MatplotlibDeprecationWarning: \n",
      "Passing one of 'on', 'true', 'off', 'false' as a boolean is deprecated; use an actual boolean (True/False) instead.\n",
      "  warn_deprecated(\"2.2\", \"Passing one of 'on', 'true', 'off', 'false' as a \"\n",
      "/home/glatard/venvs/spark/lib/python3.7/site-packages/niwidgets/niwidget_volume.py:197: FutureWarning: Using a non-tuple sequence for multidimensional indexing is deprecated; use `arr[tuple(seq)]` instead of `arr[seq]`. In the future this will be interpreted as an array index, `arr[np.array(seq)]`, which will result either in an error or a different result.\n",
      "  else np.fliplr(np.flipud(np.rot90(data[slice_obj], k=1)))\n",
      "/home/glatard/venvs/spark/lib/python3.7/site-packages/niwidgets/niwidget_volume.py:196: FutureWarning: Using a non-tuple sequence for multidimensional indexing is deprecated; use `arr[tuple(seq)]` instead of `arr[seq]`. In the future this will be interpreted as an array index, `arr[np.array(seq)]`, which will result either in an error or a different result.\n",
      "  if views[ii] != \"Sagittal\"\n"
     ]
    },
    {
     "data": {
      "text/plain": [
       "<Figure size 1500x500 with 3 Axes>"
      ]
     },
     "metadata": {},
     "output_type": "display_data"
    }
   ],
   "source": [
    "from niwidgets import NiftiWidget\n",
    "my_widget = NiftiWidget('./data/test.nii.gz')\n",
    "my_widget.nifti_plotter(colormap='gray')"
   ]
  },
  {
   "cell_type": "markdown",
   "metadata": {},
   "source": [
    "The _example_ command will create a minimal invocation for you:"
   ]
  },
  {
   "cell_type": "code",
   "execution_count": 9,
   "metadata": {},
   "outputs": [
    {
     "name": "stdout",
     "output_type": "stream",
     "text": [
      "{'infile': 'f_infile_59.csv', 'maskfile': 'str_maskfile_Cy'}\n"
     ]
    }
   ],
   "source": [
    "import simplejson as json\n",
    "example_invocation = json.loads(bosh([\"example\", \"zenodo.1482743\"]))  # bosh example should return a JSON object, not a string\n",
    "print(example_invocation)"
   ]
  },
  {
   "cell_type": "markdown",
   "metadata": {},
   "source": [
    "If you feel like starting with a more complete set of options, you can pass `--complete` to the _example_ command:"
   ]
  },
  {
   "cell_type": "code",
   "execution_count": 10,
   "metadata": {},
   "outputs": [
    {
     "name": "stdout",
     "output_type": "stream",
     "text": [
      "{\n",
      "    \"approx_skull_flag\": false,\n",
      "    \"binary_mask_flag\": false,\n",
      "    \"center_of_gravity\": [\n",
      "        -34.454,\n",
      "        -33.64,\n",
      "        -23.883\n",
      "    ],\n",
      "    \"debug_flag\": false,\n",
      "    \"fractional_intensity\": 0.05,\n",
      "    \"head_radius\": 30.886,\n",
      "    \"infile\": \"f_infile_96.tex\",\n",
      "    \"maskfile\": \"str_maskfile_kO\",\n",
      "    \"no_seg_output_flag\": false,\n",
      "    \"overlay_flag\": true,\n",
      "    \"robust_iters_flag\": true,\n",
      "    \"thresholding_flag\": false,\n",
      "    \"verbose_flag\": true,\n",
      "    \"vg_fractional_intensity\": -0.388,\n",
      "    \"vtk_mesh\": false\n",
      "}\n"
     ]
    }
   ],
   "source": [
    "print(bosh([\"example\", \"--complete\", \"zenodo.1482743\"]))"
   ]
  },
  {
   "cell_type": "markdown",
   "metadata": {},
   "source": [
    "You can now edit the example invocation to add your input values:"
   ]
  },
  {
   "cell_type": "code",
   "execution_count": 11,
   "metadata": {},
   "outputs": [],
   "source": [
    "example_invocation['infile']='./data/test.nii.gz'\n",
    "example_invocation['maskfile']='test_brain.nii.gz'"
   ]
  },
  {
   "cell_type": "markdown",
   "metadata": {},
   "source": [
    "You are now all set to use the _exec_ command to launch an analysis. One catch: we assume you have Docker or Singularity installed. A fair assumption, nowadays? We hope so:"
   ]
  },
  {
   "cell_type": "code",
   "execution_count": 12,
   "metadata": {},
   "outputs": [],
   "source": [
    "output = bosh([\"exec\", \"launch\", \"zenodo.1482743\", json.dumps(example_invocation)])  # bosh exec launch should support invocations passed as dictionaries"
   ]
  },
  {
   "cell_type": "markdown",
   "metadata": {},
   "source": [
    "You can check that the output file was created as expected:"
   ]
  },
  {
   "cell_type": "code",
   "execution_count": 13,
   "metadata": {},
   "outputs": [
    {
     "data": {
      "image/png": "[encoded data removed]",
      "text/plain": [
       "<Figure size 1080x360 with 3 Axes>"
      ]
     },
     "metadata": {},
     "output_type": "display_data"
    }
   ],
   "source": [
    "from niwidgets import NiftiWidget\n",
    "my_widget = NiftiWidget('./test_brain.nii.gz')\n",
    "my_widget.nifti_plotter(colormap='gray')"
   ]
  },
  {
   "cell_type": "markdown",
   "metadata": {},
   "source": [
    "The object returned by _bosh_ contains more information about the execution:"
   ]
  },
  {
   "cell_type": "code",
   "execution_count": 14,
   "metadata": {},
   "outputs": [
    {
     "name": "stdout",
     "output_type": "stream",
     "text": [
      "\u001b[32mShell command\n",
      "\u001b[0mbet ./data/test.nii.gz test_brain.nii.gz                   \n",
      "\u001b[32mContainer location\n",
      "\u001b[0mPulled from Docker\n",
      "\u001b[32mContainer command\n",
      "\u001b[0mdocker run --entrypoint=/bin/sh --rm  -v /home/glatard/code/boutiques-tutorial/notebooks:/home/glatard/code/boutiques-tutorial/notebooks -w /home/glatard/code/boutiques-tutorial/notebooks mcin/docker-fsl:latest /home/glatard/code/boutiques-tutorial/notebooks/temp-96074146312-1559841841128.localExec.boshjob.sh\n",
      "\u001b[32mExit code\n",
      "\u001b[0m0\n",
      "\u001b[32mError message\n",
      "\u001b[0m\u001b[31m\u001b[0m\n",
      "\u001b[32mOutput files\n",
      "\u001b[0m\n",
      "\u001b[32mMissing files\n",
      "\u001b[0m\u001b[31m\u001b[0m\n",
      "\n"
     ]
    }
   ],
   "source": [
    "print(output)"
   ]
  },
  {
   "cell_type": "markdown",
   "metadata": {},
   "source": [
    "To better integrate with Python programs, _descriptor2func_ can generate Python functions from descriptors:"
   ]
  },
  {
   "cell_type": "code",
   "execution_count": 15,
   "metadata": {},
   "outputs": [],
   "source": [
    "from boutiques.descriptor2func import function\n",
    "fslbet = function(\"zenodo.1482743\")\n",
    "out = fslbet(infile=\"./data/test.nii.gz\", maskfile=\"test_brain.nii.gz\")"
   ]
  },
  {
   "cell_type": "markdown",
   "metadata": {},
   "source": [
    "You now have a Python API for Boutiques tools, irrespective of their original programming language!"
   ]
  },
  {
   "cell_type": "markdown",
   "metadata": {},
   "source": [
    "## Chaining tools\n",
    "\n",
    "Boutiques doesn't prescribe any pipeline language or engine. Feel free to use whichever you want! In its simplest form, _descriptor2func_ makes it easy to chain tools in a Python program:"
   ]
  },
  {
   "cell_type": "code",
   "execution_count": 16,
   "metadata": {},
   "outputs": [
    {
     "name": "stdout",
     "output_type": "stream",
     "text": [
      "11534336 11534336.000000 \n"
     ]
    }
   ],
   "source": [
    "from boutiques.descriptor2func import function\n",
    "fslbet = function(\"zenodo.1482743\")\n",
    "fslstats = function(\"zenodo.3240521\")\n",
    "bet_out = fslbet(infile=\"./data/test.nii.gz\", maskfile=\"test_brain.nii.gz\")\n",
    "stats_out = fslstats(input_file=\"test_brain.nii.gz\", v=True)\n",
    "! cat output.txt"
   ]
  },
  {
   "cell_type": "markdown",
   "metadata": {},
   "source": [
    "TODOs\n",
    "* test in use tools\n",
    "* conclusion on FAIR\n",
    "* Section on producing tools: merge existing notebook in this one\n",
    "* Update README.md to point to this tutorial\n",
    "* Add to neurolibre\n",
    "* Move to \"boutiques-tutorial\" repo in boutiques\n",
    "* add clowdr, nipype, spark to chaining tools"
   ]
  },
  {
   "cell_type": "code",
   "execution_count": null,
   "metadata": {},
   "outputs": [],
   "source": []
  },
  {
   "cell_type": "code",
   "execution_count": null,
   "metadata": {},
   "outputs": [],
   "source": []
  }
 ],
 "metadata": {
  "kernelspec": {
   "display_name": "Python 3",
   "language": "python",
   "name": "python3"
  },
  "language_info": {
   "codemirror_mode": {
    "name": "ipython",
    "version": 3
   },
   "file_extension": ".py",
   "mimetype": "text/x-python",
   "name": "python",
   "nbconvert_exporter": "python",
   "pygments_lexer": "ipython3",
   "version": "3.7.3"
  }
 },
 "nbformat": 4,
 "nbformat_minor": 2
}
